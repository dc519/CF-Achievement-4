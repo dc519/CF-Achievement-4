{
 "cells": [
  {
   "cell_type": "markdown",
   "id": "c28d88af",
   "metadata": {},
   "source": [
    "# 01. Importing libraries"
   ]
  },
  {
   "cell_type": "code",
   "execution_count": 5,
   "id": "43202494",
   "metadata": {},
   "outputs": [],
   "source": [
    "# Importing libraries\n",
    "import pandas as pd\n",
    "import numpy as np\n",
    "import os"
   ]
  },
  {
   "cell_type": "markdown",
   "id": "8d8f8ce9",
   "metadata": {},
   "source": [
    "# 02. Data types"
   ]
  },
  {
   "cell_type": "markdown",
   "id": "f60be39d",
   "metadata": {},
   "source": [
    "## Question 7"
   ]
  },
  {
   "cell_type": "code",
   "execution_count": 19,
   "id": "b153543f",
   "metadata": {},
   "outputs": [],
   "source": [
    "v = 1"
   ]
  },
  {
   "cell_type": "code",
   "execution_count": 20,
   "id": "42cddd9e",
   "metadata": {},
   "outputs": [],
   "source": [
    "w = 99"
   ]
  },
  {
   "cell_type": "code",
   "execution_count": 21,
   "id": "207bf953",
   "metadata": {},
   "outputs": [],
   "source": [
    "x = 50"
   ]
  },
  {
   "cell_type": "code",
   "execution_count": 22,
   "id": "74778fdf",
   "metadata": {},
   "outputs": [],
   "source": [
    "y = 25"
   ]
  },
  {
   "cell_type": "code",
   "execution_count": 23,
   "id": "d82eea26",
   "metadata": {},
   "outputs": [],
   "source": [
    "z = 125"
   ]
  },
  {
   "cell_type": "code",
   "execution_count": 24,
   "id": "22d8a738",
   "metadata": {},
   "outputs": [
    {
     "data": {
      "text/plain": [
       "100"
      ]
     },
     "execution_count": 24,
     "metadata": {},
     "output_type": "execute_result"
    }
   ],
   "source": [
    "v + w"
   ]
  },
  {
   "cell_type": "code",
   "execution_count": 25,
   "id": "ad21d0d4",
   "metadata": {},
   "outputs": [
    {
     "data": {
      "text/plain": [
       "100"
      ]
     },
     "execution_count": 25,
     "metadata": {},
     "output_type": "execute_result"
    }
   ],
   "source": [
    "x + y + y"
   ]
  },
  {
   "cell_type": "code",
   "execution_count": 27,
   "id": "c7ea8b6c",
   "metadata": {},
   "outputs": [
    {
     "data": {
      "text/plain": [
       "100"
      ]
     },
     "execution_count": 27,
     "metadata": {},
     "output_type": "execute_result"
    }
   ],
   "source": [
    "z - y"
   ]
  },
  {
   "cell_type": "markdown",
   "id": "a89d1029",
   "metadata": {},
   "source": [
    "## Question 8"
   ]
  },
  {
   "cell_type": "code",
   "execution_count": 28,
   "id": "bf39ad1f",
   "metadata": {},
   "outputs": [],
   "source": [
    "a = 5.4"
   ]
  },
  {
   "cell_type": "code",
   "execution_count": 29,
   "id": "eea06942",
   "metadata": {},
   "outputs": [],
   "source": [
    "b = 2.1"
   ]
  },
  {
   "cell_type": "code",
   "execution_count": 30,
   "id": "3a1437dc",
   "metadata": {},
   "outputs": [
    {
     "data": {
      "text/plain": [
       "2.5714285714285716"
      ]
     },
     "execution_count": 30,
     "metadata": {},
     "output_type": "execute_result"
    }
   ],
   "source": [
    "a / b"
   ]
  },
  {
   "cell_type": "markdown",
   "id": "766d7ee9",
   "metadata": {},
   "source": [
    "## Question 9"
   ]
  },
  {
   "cell_type": "code",
   "execution_count": 38,
   "id": "8bb22b5f",
   "metadata": {},
   "outputs": [],
   "source": [
    "c = 'Car'"
   ]
  },
  {
   "cell_type": "code",
   "execution_count": 39,
   "id": "cff575e6",
   "metadata": {},
   "outputs": [],
   "source": [
    "d = 'eer'"
   ]
  },
  {
   "cell_type": "code",
   "execution_count": 40,
   "id": "2ae7ad0b",
   "metadata": {},
   "outputs": [],
   "source": [
    "e = 'Foundry'"
   ]
  },
  {
   "cell_type": "code",
   "execution_count": 41,
   "id": "09b3d360",
   "metadata": {},
   "outputs": [
    {
     "data": {
      "text/plain": [
       "'CareerFoundry'"
      ]
     },
     "execution_count": 41,
     "metadata": {},
     "output_type": "execute_result"
    }
   ],
   "source": [
    "c + d + e"
   ]
  },
  {
   "cell_type": "markdown",
   "id": "f42ff9d6",
   "metadata": {},
   "source": [
    "## Question 10"
   ]
  },
  {
   "cell_type": "code",
   "execution_count": 43,
   "id": "403abed9",
   "metadata": {},
   "outputs": [],
   "source": [
    "f = 'Coding is a lot of fun.'"
   ]
  },
  {
   "cell_type": "code",
   "execution_count": 44,
   "id": "9b4c0ee1",
   "metadata": {},
   "outputs": [],
   "source": [
    "g = ' I think I will re-create my version of Instagram using Python.'"
   ]
  },
  {
   "cell_type": "code",
   "execution_count": 45,
   "id": "e1e24f42",
   "metadata": {},
   "outputs": [
    {
     "data": {
      "text/plain": [
       "'Coding is a lot of fun. I think I will re-create my version of Instagram using Python.'"
      ]
     },
     "execution_count": 45,
     "metadata": {},
     "output_type": "execute_result"
    }
   ],
   "source": [
    "f + g"
   ]
  },
  {
   "cell_type": "markdown",
   "id": "ff2f592e",
   "metadata": {},
   "source": [
    "## Bonus question"
   ]
  },
  {
   "cell_type": "code",
   "execution_count": 46,
   "id": "07dcb7bb",
   "metadata": {},
   "outputs": [],
   "source": [
    "m = 'This sentence will appear 100 times. '"
   ]
  },
  {
   "cell_type": "code",
   "execution_count": 47,
   "id": "8cfb1d10",
   "metadata": {},
   "outputs": [
    {
     "data": {
      "text/plain": [
       "'This sentence will appear 100 times. This sentence will appear 100 times. This sentence will appear 100 times. This sentence will appear 100 times. This sentence will appear 100 times. This sentence will appear 100 times. This sentence will appear 100 times. This sentence will appear 100 times. This sentence will appear 100 times. This sentence will appear 100 times. This sentence will appear 100 times. This sentence will appear 100 times. This sentence will appear 100 times. This sentence will appear 100 times. This sentence will appear 100 times. This sentence will appear 100 times. This sentence will appear 100 times. This sentence will appear 100 times. This sentence will appear 100 times. This sentence will appear 100 times. This sentence will appear 100 times. This sentence will appear 100 times. This sentence will appear 100 times. This sentence will appear 100 times. This sentence will appear 100 times. This sentence will appear 100 times. This sentence will appear 100 times. This sentence will appear 100 times. This sentence will appear 100 times. This sentence will appear 100 times. This sentence will appear 100 times. This sentence will appear 100 times. This sentence will appear 100 times. This sentence will appear 100 times. This sentence will appear 100 times. This sentence will appear 100 times. This sentence will appear 100 times. This sentence will appear 100 times. This sentence will appear 100 times. This sentence will appear 100 times. This sentence will appear 100 times. This sentence will appear 100 times. This sentence will appear 100 times. This sentence will appear 100 times. This sentence will appear 100 times. This sentence will appear 100 times. This sentence will appear 100 times. This sentence will appear 100 times. This sentence will appear 100 times. This sentence will appear 100 times. This sentence will appear 100 times. This sentence will appear 100 times. This sentence will appear 100 times. This sentence will appear 100 times. This sentence will appear 100 times. This sentence will appear 100 times. This sentence will appear 100 times. This sentence will appear 100 times. This sentence will appear 100 times. This sentence will appear 100 times. This sentence will appear 100 times. This sentence will appear 100 times. This sentence will appear 100 times. This sentence will appear 100 times. This sentence will appear 100 times. This sentence will appear 100 times. This sentence will appear 100 times. This sentence will appear 100 times. This sentence will appear 100 times. This sentence will appear 100 times. This sentence will appear 100 times. This sentence will appear 100 times. This sentence will appear 100 times. This sentence will appear 100 times. This sentence will appear 100 times. This sentence will appear 100 times. This sentence will appear 100 times. This sentence will appear 100 times. This sentence will appear 100 times. This sentence will appear 100 times. This sentence will appear 100 times. This sentence will appear 100 times. This sentence will appear 100 times. This sentence will appear 100 times. This sentence will appear 100 times. This sentence will appear 100 times. This sentence will appear 100 times. This sentence will appear 100 times. This sentence will appear 100 times. This sentence will appear 100 times. This sentence will appear 100 times. This sentence will appear 100 times. This sentence will appear 100 times. This sentence will appear 100 times. This sentence will appear 100 times. This sentence will appear 100 times. This sentence will appear 100 times. This sentence will appear 100 times. This sentence will appear 100 times. This sentence will appear 100 times. '"
      ]
     },
     "execution_count": 47,
     "metadata": {},
     "output_type": "execute_result"
    }
   ],
   "source": [
    "m * 100"
   ]
  },
  {
   "cell_type": "code",
   "execution_count": null,
   "id": "3b602f45",
   "metadata": {},
   "outputs": [],
   "source": []
  }
 ],
 "metadata": {
  "kernelspec": {
   "display_name": "Python 3 (ipykernel)",
   "language": "python",
   "name": "python3"
  },
  "language_info": {
   "codemirror_mode": {
    "name": "ipython",
    "version": 3
   },
   "file_extension": ".py",
   "mimetype": "text/x-python",
   "name": "python",
   "nbconvert_exporter": "python",
   "pygments_lexer": "ipython3",
   "version": "3.11.5"
  }
 },
 "nbformat": 4,
 "nbformat_minor": 5
}
